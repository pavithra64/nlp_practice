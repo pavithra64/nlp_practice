{
  "cells": [
    {
      "cell_type": "code",
      "execution_count": 26,
      "id": "366858e1-b1e4-42e1-b8e3-b907cb0a49c5",
      "metadata": {
        "id": "366858e1-b1e4-42e1-b8e3-b907cb0a49c5",
        "outputId": "eccc38e0-36dc-4d6c-c5d6-c21669c62ee7",
        "colab": {
          "base_uri": "https://localhost:8080/"
        }
      },
      "outputs": [
        {
          "output_type": "stream",
          "name": "stdout",
          "text": [
            "Match found at: (12, 17)\n",
            "All matches: ['phone', 'phone']\n",
            "Match position: (3, 8)\n",
            "Match position: (18, 23)\n",
            "Phone number: 408-555-1234\n",
            "Area code: 408\n",
            "Prefix: 555\n",
            "Line number: 1234\n",
            "<re.Match object; span=(5, 10), match='woman'>\n",
            "['cat', 'sat', 'mat']\n",
            "Clean text: This is a string But it has punctuation\n",
            "['long-ish']\n",
            "<re.Match object; span=(8, 15), match='catfish'>\n"
          ]
        }
      ],
      "source": [
        "# Regular Expressions in Python\n",
        "import re\n",
        "# 1. Basic Search\n",
        "text = \"The agent's phone number is 408-555-1234. Call soon!\"\n",
        "match = re.search('phone', text)\n",
        "print(\"Match found at:\", match.span())\n",
        "# 2. Find all occurrences\n",
        "text2 = \"My phone is a new phone\"\n",
        "matches = re.findall(\"phone\", text2)\n",
        "print(\"All matches:\", matches)\n",
        "# 3. Using finditer()\n",
        "for m in re.finditer(\"phone\", text2):\n",
        "    print(\"Match position:\", m.span())\n",
        "# 4. Extract phone number using pattern\n",
        "text3 = \"My telephone number is 408-555-1234\"\n",
        "phone = re.search(r'\\d{3}-\\d{3}-\\d{4}', text3)\n",
        "print(\"Phone number:\", phone.group())\n",
        "# 5. Using groups\n",
        "pattern = re.compile(r'(\\d{3})-(\\d{3})-(\\d{4})')\n",
        "result = re.search(pattern, text3)\n",
        "print(\"Area code:\", result.group(1))\n",
        "print(\"Prefix:\", result.group(2))\n",
        "print(\"Line number:\", result.group(3))\n",
        "# 6. Using OR operator\n",
        "print(re.search(r\"man|woman\", \"This woman was here.\"))\n",
        "# 7. Find words ending with 'at'\n",
        "print(re.findall(r'\\S+at', \"The cat sat on the mat\"))\n",
        "# 8. Remove punctuation\n",
        "test = \"This is a string! But it has punctuation.\"\n",
        "clean = ' '.join(re.findall('[^!.? ]+', test))\n",
        "print(\"Clean text:\", clean)\n",
        "# 9. Find hyphenated words\n",
        "text4 = \"Find the long-ish words in this sentence.\"\n",
        "print(re.findall(r'[\\w]+-[\\w]+', text4))\n",
        "# 10. Match words like catfish, catnap, etc.\n",
        "print(re.search(r'cat(fish|nap|claw)', \"I saw a catfish.\"))\n"
      ]
    }
  ],
  "metadata": {
    "kernelspec": {
      "display_name": "Python [conda env:azam]",
      "language": "python",
      "name": "conda-env-azam-py"
    },
    "language_info": {
      "codemirror_mode": {
        "name": "ipython",
        "version": 3
      },
      "file_extension": ".py",
      "mimetype": "text/x-python",
      "name": "python",
      "nbconvert_exporter": "python",
      "pygments_lexer": "ipython3",
      "version": "3.12.11"
    },
    "colab": {
      "provenance": []
    }
  },
  "nbformat": 4,
  "nbformat_minor": 5
}