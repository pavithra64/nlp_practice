{
  "cells": [
    {
      "cell_type": "code",
      "execution_count": 10,
      "id": "366858e1-b1e4-42e1-b8e3-b907cb0a49c5",
      "metadata": {
        "id": "366858e1-b1e4-42e1-b8e3-b907cb0a49c5",
        "outputId": "619553f4-7949-4a2c-b548-ffaaa7145a50",
        "colab": {
          "base_uri": "https://localhost:8080/"
        }
      },
      "outputs": [
        {
          "output_type": "stream",
          "name": "stderr",
          "text": [
            "<>:45: SyntaxWarning: invalid escape sequence '\\c'\n",
            "<>:45: SyntaxWarning: invalid escape sequence '\\c'\n",
            "/tmp/ipython-input-3020427382.py:45: SyntaxWarning: invalid escape sequence '\\c'\n",
            "  doc3 = nlp(u'Although commmonly attributed to John Lennon from his song \"Beautiful Boy\", \\the phrase \"Life is what happens to us while we are making other plans\" was written by \\cartoonist Allen Saunders and published in Reader\\'s Digest in 1957, when Lennon was 17.')\n"
          ]
        },
        {
          "output_type": "stream",
          "name": "stdout",
          "text": [
            "Tesla PROPN nsubj\n",
            "is AUX aux\n",
            "looking VERB ROOT\n",
            "at ADP prep\n",
            "buying VERB pcomp\n",
            "U.S. PROPN dobj\n",
            "startup VERB advcl\n",
            "for ADP prep\n",
            "$ SYM quantmod\n",
            "6 NUM compound\n",
            "million NUM pobj\n",
            "Tesla PROPN nsubj\n",
            "is AUX aux\n",
            "n't PART neg\n",
            "    SPACE dep\n",
            "looking VERB ROOT\n",
            "into ADP prep\n",
            "startups NOUN pobj\n",
            "anymore ADV advmod\n",
            ". PUNCT punct\n",
            "looking\n",
            "look\n",
            "VERB\n",
            "VBG / verb, gerund or present participle\n",
            "Tesla: Xxxxx\n",
            "U.S. : X.X.\n",
            "True\n",
            "False\n",
            "phrase \"Life is what happens to us while we are making other plans\n",
            "This is the first sentence.\n",
            "This is another sentence.\n",
            "This is the last sentence.\n"
          ]
        },
        {
          "output_type": "execute_result",
          "data": {
            "text/plain": [
              "True"
            ]
          },
          "metadata": {},
          "execution_count": 10
        }
      ],
      "source": [
        "#1pgm\n",
        "# Import spaCy and load the language library\n",
        "\n",
        "import spacy\n",
        "nlp = spacy.load('en_core_web_sm')\n",
        "# Create a Doc object\n",
        "doc = nlp(u'Tesla is looking at buying U.S. startup for $6 million')\n",
        "#Here U stands for unicode string\n",
        "# Print each token separately\n",
        "for token in doc:\n",
        "  print(token.text, token.pos_, token.dep_)#Here pos-parts of speech, dep-dependency\n",
        "#Pipeline\n",
        "nlp.pipeline\n",
        "#Names of the pipeline\n",
        "nlp.pipe_names\n",
        "#Example 2\n",
        "doc2 = nlp(u\"Tesla isn't   looking into startups anymore.\")\n",
        "for token in doc2:\n",
        "  print(token.text, token.pos_, token.dep_)\n",
        "doc2\n",
        "doc2[0]\n",
        "type(doc2)\n",
        "#Part-of-Speech Tagging (POS)\n",
        "doc2[0].pos_\n",
        "#Dependencies\n",
        "doc2[0].dep_\n",
        "#To see the full name of a tag use\n",
        "#spacy.explain(tag)\n",
        "spacy.explain('PROPN')\n",
        "spacy.explain('nsubj')\n",
        "# Lemmas (the base form of the word):\n",
        "print(doc2[4].text)\n",
        "print(doc2[4].lemma_)\n",
        "# Simple Parts-of-Speech & Detailed Tags:\n",
        "print(doc2[4].pos_)\n",
        "print(doc2[4].tag_ + ' / ' + spacy.explain(doc2[4].tag_))\n",
        "# Word Shapes:\n",
        "print(doc2[0].text+': '+doc2[0].shape_)\n",
        "print(doc[5].text+' : '+doc[5].shape_)\n",
        "# Boolean Values:\n",
        "print(doc2[0].is_alpha)\n",
        "print(doc2[0].is_stop)\n",
        "#Spans\n",
        "#A span is a slice of Doc object in the form Doc[start:stop].\n",
        "doc3 = nlp(u'Although commmonly attributed to John Lennon from his song \"Beautiful Boy\", \\the phrase \"Life is what happens to us while we are making other plans\" was written by \\cartoonist Allen Saunders and published in Reader\\'s Digest in 1957, when Lennon was 17.')\n",
        "life_quote = doc3[16:30]\n",
        "print(life_quote)\n",
        "type(life_quote)\n",
        "#Sentences\n",
        "doc4 = nlp(u'This is the first sentence. This is another sentence. This is the last sentence.')\n",
        "for sent in doc4.sents:\n",
        "  print(sent)\n",
        "doc4[6].is_sent_start\n"
      ]
    },
    {
      "cell_type": "code",
      "execution_count": null,
      "id": "881edca7-c234-4f31-ad29-34974bfc303c",
      "metadata": {
        "id": "881edca7-c234-4f31-ad29-34974bfc303c"
      },
      "outputs": [],
      "source": []
    },
    {
      "cell_type": "code",
      "execution_count": null,
      "id": "537fa06e-87ad-49b2-a312-8de3a8b00164",
      "metadata": {
        "id": "537fa06e-87ad-49b2-a312-8de3a8b00164"
      },
      "outputs": [],
      "source": []
    }
  ],
  "metadata": {
    "kernelspec": {
      "display_name": "Python [conda env:azam]",
      "language": "python",
      "name": "conda-env-azam-py"
    },
    "language_info": {
      "codemirror_mode": {
        "name": "ipython",
        "version": 3
      },
      "file_extension": ".py",
      "mimetype": "text/x-python",
      "name": "python",
      "nbconvert_exporter": "python",
      "pygments_lexer": "ipython3",
      "version": "3.12.11"
    },
    "colab": {
      "provenance": []
    }
  },
  "nbformat": 4,
  "nbformat_minor": 5
}
