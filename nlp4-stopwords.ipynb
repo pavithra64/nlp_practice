{
  "cells": [
    {
      "cell_type": "code",
      "execution_count": 14,
      "id": "366858e1-b1e4-42e1-b8e3-b907cb0a49c5",
      "metadata": {
        "id": "366858e1-b1e4-42e1-b8e3-b907cb0a49c5",
        "outputId": "2159b326-e61e-4c83-d5ea-e95aa4f90d31",
        "colab": {
          "base_uri": "https://localhost:8080/"
        }
      },
      "outputs": [
        {
          "output_type": "stream",
          "name": "stdout",
          "text": [
            "{'himself', 'up', 'else', 'meanwhile', 'elsewhere', 'what', 'thru', 'below', 'and', 'sixty', 'among', 'most', 'yet', 'upon', 'indeed', 'empty', 'seem', 'therefore', 'none', 'no', 'whereupon', 'on', 'which', 'will', 'six', 'ours', 'whence', 'wherever', 'such', 'done', 'still', 'herself', 'fifty', 'everything', 'whole', 'him', 'than', 'now', 'an', 'beyond', 'might', 'same', 'show', 'any', 'i', 'in', 'eleven', 'throughout', 'perhaps', 'out', 'become', 'along', 'there', 'a', 'down', 'whether', 'quite', 'whoever', 'namely', 'has', 'am', 'every', 'always', 'forty', 'give', 'further', 'our', 'somewhere', 'less', 'he', 'hundred', 'something', 'be', 'third', 'herein', 'could', 'nobody', 'very', 'anyhow', 'been', '‘ve', 'too', 'being', 'whereby', 'more', 'some', 'nevertheless', 'yourself', 'few', 'eight', 'each', 'really', 'please', 'many', 'besides', 'toward', 'regarding', 'for', \"'s\", 'bottom', 'thus', 'during', 'almost', 'twelve', 'ourselves', 'both', 'latter', 'themselves', 'before', 'after', 'my', 'had', 'n‘t', 'using', 'whatever', 'afterwards', 'or', 'sometime', 'again', '‘m', 'ten', 'fifteen', 'otherwise', 'other', 'from', 'their', 'thereafter', 'also', 'used', 'front', 'nothing', 'became', 'thereby', 'hence', 'together', 'as', 'whereafter', 'therein', 'sometimes', 'these', 'someone', 'ever', 'move', 'several', 'make', 'four', 'nowhere', 'formerly', 'this', 'two', 'one', 'seemed', 'nor', 'was', 'though', '’re', 'itself', 'last', 'others', 'seeming', 'hereby', 'whom', \"'re\", 'anywhere', 'with', 'via', 'between', 'over', 'neither', 'take', 'nine', 'however', 'cannot', 'anyone', 'enough', \"'ll\", 'full', 'go', 'often', 'above', 'wherein', 'whereas', 'may', 'have', 'into', 'are', 'until', 'back', 'it', 'except', \"'ve\", 'us', 'because', 'made', 'off', 'various', 'is', 'behind', 'yourselves', 'n’t', 'within', 'moreover', 'everyone', 'not', 'its', 'did', 'noone', 'those', 'say', 'the', 'myself', '’s', 'hers', 'if', '‘s', 'can', 'side', 'we', 'were', 'call', 'rather', 'about', '‘d', 'do', 'well', 'keep', 'put', 'must', 'name', 'since', 'where', 'top', 'either', 'when', 'already', 'to', 'beside', 'becomes', 'how', 'beforehand', 'only', 'everywhere', \"n't\", 'five', 'three', '’d', 'while', 'per', 'against', 'his', 'anyway', 'see', 'much', 'hereupon', 'hereafter', 'her', 'part', 'doing', 'across', 'at', 'they', 'why', 'ca', 'yours', 'whose', 'me', 'then', 'thence', 'own', 'another', 'here', 'she', 'so', 'mostly', 'next', 'whither', 'never', 'all', 'you', 'without', 'even', \"'m\", 'anything', 'around', 'that', '‘ll', 'mine', 'them', '’ll', 'should', 'due', 'just', '’ve', 'seems', 'get', 'once', 'somehow', 'under', 'first', 'but', 'alone', 'by', 'of', 'your', 'amongst', 'former', 'amount', 'onto', 'twenty', 'thereupon', 'towards', 'through', 'would', 'whenever', '’m', 'although', 'unless', 're', 'serious', 'does', 'least', '‘re', 'who', 'latterly', 'becoming', \"'d\"}\n"
          ]
        },
        {
          "output_type": "execute_result",
          "data": {
            "text/plain": [
              "False"
            ]
          },
          "metadata": {},
          "execution_count": 14
        }
      ],
      "source": [
        "#6pgm\n",
        "\n",
        "\n",
        "\n",
        "# Perform standard imports:\n",
        "import spacy\n",
        "nlp = spacy.load('en_core_web_sm')\n",
        "\n",
        "# Print the set of spaCy's default stop words (remember that sets are unordered):\n",
        "print(nlp.Defaults.stop_words)\n",
        "\n",
        "len(nlp.Defaults.stop_words)\n",
        "\n",
        "#To see if a word is a stop word\n",
        "nlp.vocab['myself'].is_stop\n",
        "\n",
        "nlp.vocab['mystery'].is_stop\n",
        "\n",
        "#To add a stop word\n",
        "# Add the word to the set of stop words. Use lowercase!\n",
        "nlp.Defaults.stop_words.add('btw')\n",
        "\n",
        "# Set the stop_word tag on the lexeme\n",
        "nlp.vocab['btw'].is_stop = True\n",
        "\n",
        "len(nlp.Defaults.stop_words)\n",
        "\n",
        "nlp.vocab['btw'].is_stop\n",
        "\n",
        "#When adding stop words, always use lowercase. Lexemes are converted to lowercase before being added to vocab.\n",
        "\n",
        "#To remove a stop word\n",
        "# Remove the word from the set of stop words\n",
        "nlp.Defaults.stop_words.remove('beyond')\n",
        "\n",
        "# Remove the stop_word tag from the lexeme\n",
        "nlp.vocab['beyond'].is_stop = False\n",
        "\n",
        "len(nlp.Defaults.stop_words)\n",
        "\n",
        "nlp.vocab['beyond'].is_stop\n"
      ]
    }
  ],
  "metadata": {
    "kernelspec": {
      "display_name": "Python [conda env:azam]",
      "language": "python",
      "name": "conda-env-azam-py"
    },
    "language_info": {
      "codemirror_mode": {
        "name": "ipython",
        "version": 3
      },
      "file_extension": ".py",
      "mimetype": "text/x-python",
      "name": "python",
      "nbconvert_exporter": "python",
      "pygments_lexer": "ipython3",
      "version": "3.12.11"
    },
    "colab": {
      "provenance": []
    }
  },
  "nbformat": 4,
  "nbformat_minor": 5
}
