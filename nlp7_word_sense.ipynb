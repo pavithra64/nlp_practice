{
  "cells": [
    {
      "cell_type": "code",
      "execution_count": 28,
      "id": "366858e1-b1e4-42e1-b8e3-b907cb0a49c5",
      "metadata": {
        "id": "366858e1-b1e4-42e1-b8e3-b907cb0a49c5",
        "outputId": "6f7336c0-cb02-46c5-8957-de7c7a4de34c",
        "colab": {
          "base_uri": "https://localhost:8080/"
        }
      },
      "outputs": [
        {
          "output_type": "stream",
          "name": "stderr",
          "text": [
            "[nltk_data] Downloading package punkt to /root/nltk_data...\n",
            "[nltk_data]   Package punkt is already up-to-date!\n",
            "[nltk_data] Downloading package wordnet to /root/nltk_data...\n",
            "[nltk_data]   Package wordnet is already up-to-date!\n",
            "[nltk_data] Downloading package omw-1.4 to /root/nltk_data...\n",
            "[nltk_data]   Package omw-1.4 is already up-to-date!\n",
            "[nltk_data] Downloading package stopwords to /root/nltk_data...\n",
            "[nltk_data]   Package stopwords is already up-to-date!\n",
            "[nltk_data] Downloading package punkt_tab to /root/nltk_data...\n",
            "[nltk_data]   Unzipping tokenizers/punkt_tab.zip.\n"
          ]
        },
        {
          "output_type": "stream",
          "name": "stdout",
          "text": [
            "Sentence: He went to the bank to withdraw money.\n",
            "Disambiguated Sense: savings_bank.n.02\n",
            "Definition: a container (usually with a slot in the top) for keeping money at home\n",
            "\n",
            "Sentence: She sat on the river bank and enjoyed the view.\n",
            "Disambiguated Sense: depository_financial_institution.n.01\n",
            "Definition: a financial institution that accepts deposits and channels the money into lending activities\n",
            "\n"
          ]
        }
      ],
      "source": [
        "import nltk\n",
        "from nltk.wsd import lesk\n",
        "from nltk.tokenize import word_tokenize\n",
        "from nltk.corpus import wordnet\n",
        "# Download necessary NLTK data\n",
        "nltk.download('punkt')\n",
        "nltk.download('wordnet')\n",
        "nltk.download('omw-1.4')\n",
        "nltk.download('stopwords')\n",
        "nltk.download('punkt_tab') # Add this download\n",
        "# Sample sentences demonstrating word sense disambiguation\n",
        "def disambiguate_word(sentence, ambiguous_word):\n",
        "    \"\"\"Uses the Lesk algorithm to determine the correct sense of a word in a given sentence.\"\"\"\n",
        "    tokens = word_tokenize(sentence)\n",
        "    sense = lesk(tokens, ambiguous_word, 'n')  # Specify POS tag as noun for better accuracy\n",
        "    return sense\n",
        "# Example usage\n",
        "sentences = [\n",
        "    \"He went to the bank to withdraw money.\",\n",
        "    \"She sat on the river bank and enjoyed the view.\"\n",
        "]\n",
        "ambiguous_word = \"bank\"\n",
        "for sentence in sentences:\n",
        "    sense = disambiguate_word(sentence, ambiguous_word)\n",
        "    if sense:\n",
        "        print(f\"Sentence: {sentence}\")\n",
        "        print(f\"Disambiguated Sense: {sense.name()}\")\n",
        "        print(f\"Definition: {sense.definition()}\\n\")\n",
        "    else:\n",
        "        print(f\"No sense found for '{ambiguous_word}' in the sentence: {sentence}\\n\")"
      ]
    }
  ],
  "metadata": {
    "kernelspec": {
      "display_name": "Python [conda env:azam]",
      "language": "python",
      "name": "conda-env-azam-py"
    },
    "language_info": {
      "codemirror_mode": {
        "name": "ipython",
        "version": 3
      },
      "file_extension": ".py",
      "mimetype": "text/x-python",
      "name": "python",
      "nbconvert_exporter": "python",
      "pygments_lexer": "ipython3",
      "version": "3.12.11"
    },
    "colab": {
      "provenance": []
    }
  },
  "nbformat": 4,
  "nbformat_minor": 5
}